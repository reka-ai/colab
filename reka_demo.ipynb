{
  "cells": [
    {
      "cell_type": "markdown",
      "id": "b037e857",
      "metadata": {
        "id": "b037e857"
      },
      "source": [
        "# Preliminaries"
      ]
    },
    {
      "cell_type": "code",
      "execution_count": null,
      "id": "9e72e090",
      "metadata": {
        "id": "9e72e090"
      },
      "outputs": [],
      "source": [
        "# Install Reka API.\n",
        "!python3 -m pip install --quiet reka-api"
      ]
    },
    {
      "cell_type": "code",
      "execution_count": null,
      "id": "8bf9f004",
      "metadata": {
        "id": "8bf9f004"
      },
      "outputs": [],
      "source": [
        "from IPython.display import Image\n",
        "import os\n",
        "import reka\n",
        "import time\n",
        "\n",
        "from getpass import getpass\n",
        "\n",
        "# Assuming this is the IP of a VM with on-prem deployment\n",
        "# reka._SERVER = \"http://***********:8000\"\n",
        "# reka.API_KEY = \"on_prem_key\"\n",
        "\n",
        "# To use the prod server:\n",
        "reka._SERVER = \"https://api.reka.ai\"\n",
        "reka.API_KEY = getpass(\"Enter your Reka API key: \")"
      ]
    },
    {
      "cell_type": "markdown",
      "id": "032244cf",
      "metadata": {
        "id": "032244cf"
      },
      "source": [
        "# Chat capabilities"
      ]
    },
    {
      "cell_type": "code",
      "execution_count": null,
      "id": "6bfa87b2",
      "metadata": {
        "id": "6bfa87b2"
      },
      "outputs": [],
      "source": [
        "# Very simple chat interface.\n",
        "response = reka.chat(\"What is the capital of the UK?\")\n",
        "print(response['text'])"
      ]
    },
    {
      "cell_type": "code",
      "execution_count": null,
      "id": "377dbc8c",
      "metadata": {
        "id": "377dbc8c"
      },
      "outputs": [],
      "source": [
        "# You can also specify advanced parameters to control generation.\n",
        "response = reka.chat(\n",
        "    \"List some large cities in the UK.\",\n",
        "    assistant_start_text=\"1.\",\n",
        "    request_output_len=128,\n",
        "    temperature=0.4,\n",
        "    stop_tokens=[\"11.\"],\n",
        ")"
      ]
    },
    {
      "cell_type": "markdown",
      "id": "5491bf28",
      "metadata": {
        "id": "5491bf28"
      },
      "source": [
        "# Retrieval capabilities"
      ]
    },
    {
      "cell_type": "code",
      "execution_count": null,
      "id": "bf738bcd",
      "metadata": {
        "id": "bf738bcd"
      },
      "outputs": [],
      "source": [
        "# Download a toy dataset.\n",
        "!wget https://reka-public.s3.eu-west-2.amazonaws.com/amazon_legal_docs.zip"
      ]
    },
    {
      "cell_type": "code",
      "execution_count": null,
      "id": "eea57491",
      "metadata": {
        "id": "eea57491"
      },
      "outputs": [],
      "source": [
        "reka.add_dataset(\n",
        "    filepath=\"amazon_legal_docs.zip\",\n",
        "    name=\"amazon\",\n",
        ")"
      ]
    },
    {
      "cell_type": "code",
      "execution_count": null,
      "id": "51647975",
      "metadata": {
        "id": "51647975"
      },
      "outputs": [],
      "source": [
        "# Prepare the documents for retrieval.\n",
        "job_id = reka.prepare_retrieval(dataset_name=\"amazon\")\n",
        "while True:\n",
        "    status = reka.retrieval_job_status(job_id)\n",
        "    if status.is_done():\n",
        "        break\n",
        "    time.sleep(5)\n",
        "print(f\"Job finished with status: {status.job_status.name}\")"
      ]
    },
    {
      "cell_type": "code",
      "execution_count": null,
      "id": "00dfab96",
      "metadata": {
        "id": "00dfab96"
      },
      "outputs": [],
      "source": [
        "# The model knows everything about Amazon legal documentation.\n",
        "response = reka.chat(\n",
        "    'What is the refund policy for Amazon Prime memberships that were redeemed through a promotional or gift code?',\n",
        "    retrieval_dataset=\"amazon\")\n",
        "print(response[\"text\"])"
      ]
    },
    {
      "cell_type": "code",
      "execution_count": null,
      "id": "b5fbf9eb",
      "metadata": {
        "id": "b5fbf9eb"
      },
      "outputs": [],
      "source": [
        "# Cleanup\n",
        "reka.delete_dataset(\"amazon\")"
      ]
    },
    {
      "cell_type": "markdown",
      "id": "fe7c3cd2",
      "metadata": {
        "id": "fe7c3cd2"
      },
      "source": [
        "# Image understanding"
      ]
    },
    {
      "cell_type": "code",
      "execution_count": null,
      "id": "b428e116",
      "metadata": {
        "scrolled": true,
        "id": "b428e116"
      },
      "outputs": [],
      "source": [
        "# Let's use a random image\n",
        "URL = \"https://docs.reka.ai/_images/000000245576.jpg\"\n",
        "Image(url=URL)"
      ]
    },
    {
      "cell_type": "code",
      "execution_count": null,
      "id": "43d9ef46",
      "metadata": {
        "id": "43d9ef46"
      },
      "outputs": [],
      "source": [
        "# Ask the model what's in the picture.\n",
        "conversation_history=[{\n",
        "            \"type\": \"human\",\n",
        "            \"text\": \"What's in the photo?\",\n",
        "            \"image_url\": URL,\n",
        "}]\n",
        "response = reka.vlm_chat(conversation_history)\n",
        "print(response['text'])"
      ]
    },
    {
      "cell_type": "code",
      "execution_count": null,
      "id": "7e6db57c",
      "metadata": {
        "scrolled": true,
        "id": "7e6db57c"
      },
      "outputs": [],
      "source": [
        "# Continue the conversation.\n",
        "conversation_history += [{\"type\": \"model\", \"text\": response['text']},\n",
        "                        {\"type\": \"human\", \"text\": \"What color is the cat?\"}]\n",
        "response = reka.vlm_chat(conversation_history)\n",
        "print(response['text'])"
      ]
    }
  ],
  "metadata": {
    "kernelspec": {
      "display_name": "Python 3 (ipykernel)",
      "language": "python",
      "name": "python3"
    },
    "language_info": {
      "codemirror_mode": {
        "name": "ipython",
        "version": 3
      },
      "file_extension": ".py",
      "mimetype": "text/x-python",
      "name": "python",
      "nbconvert_exporter": "python",
      "pygments_lexer": "ipython3",
      "version": "3.10.12"
    },
    "colab": {
      "provenance": []
    }
  },
  "nbformat": 4,
  "nbformat_minor": 5
}
