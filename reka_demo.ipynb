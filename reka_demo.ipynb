{
  "cells": [
    {
      "cell_type": "markdown",
      "id": "b037e857",
      "metadata": {
        "id": "b037e857"
      },
      "source": [
        "# Preliminaries"
      ]
    },
    {
      "cell_type": "code",
      "execution_count": null,
      "id": "9e72e090",
      "metadata": {
        "id": "9e72e090"
      },
      "outputs": [],
      "source": [
        "# Install Reka API.\n",
        "!python3 -m pip install --quiet reka-api"
      ]
    },
    {
      "cell_type": "code",
      "execution_count": null,
      "id": "8bf9f004",
      "metadata": {
        "id": "8bf9f004",
        "colab": {
          "base_uri": "https://localhost:8080/"
        },
        "outputId": "1c3eacdd-f810-4218-d47a-4ae9499af26a"
      },
      "outputs": [
        {
          "name": "stdout",
          "output_type": "stream",
          "text": [
            "Enter your Reka API key: ··········\n"
          ]
        }
      ],
      "source": [
        "from IPython.display import Image\n",
        "import os\n",
        "import reka\n",
        "import time\n",
        "\n",
        "from getpass import getpass\n",
        "\n",
        "# Assuming this is the IP of a VM with on-prem deployment\n",
        "# reka._SERVER = \"http://***********:8000\"\n",
        "# reka.API_KEY = \"on_prem_key\"\n",
        "\n",
        "# To use the prod server:\n",
        "reka._SERVER = \"https://api.reka.ai\"\n",
        "reka.API_KEY = getpass(\"Enter your Reka API key: \")"
      ]
    },
    {
      "cell_type": "markdown",
      "id": "032244cf",
      "metadata": {
        "id": "032244cf"
      },
      "source": [
        "# Chat capabilities"
      ]
    },
    {
      "cell_type": "code",
      "execution_count": null,
      "id": "6bfa87b2",
      "metadata": {
        "id": "6bfa87b2",
        "colab": {
          "base_uri": "https://localhost:8080/"
        },
        "outputId": "6999173e-29e0-44f3-e986-85c2a3f0d42d"
      },
      "outputs": [
        {
          "output_type": "stream",
          "name": "stdout",
          "text": [
            "The capital of the UK is London.\n"
          ]
        }
      ],
      "source": [
        "# Very simple chat interface.\n",
        "response = reka.chat(\"What is the capital of the UK?\")\n",
        "print(response[\"text\"])"
      ]
    },
    {
      "cell_type": "code",
      "execution_count": null,
      "id": "377dbc8c",
      "metadata": {
        "id": "377dbc8c",
        "colab": {
          "base_uri": "https://localhost:8080/"
        },
        "outputId": "e8c54509-c073-44e9-a0ae-23d9684011ec"
      },
      "outputs": [
        {
          "output_type": "stream",
          "name": "stdout",
          "text": [
            "1. London\n",
            "\n",
            "2. Birmingham\n",
            "\n",
            "3. Manchester\n",
            "\n",
            "4. Leeds\n",
            "\n",
            "5. Sheffield\n",
            "\n",
            "6. Glasgow\n",
            "\n",
            "7. Edinburgh\n",
            "\n",
            "8. Liverpool\n",
            "\n",
            "9. Bristol\n",
            "\n",
            "10. Cardiff\n"
          ]
        }
      ],
      "source": [
        "# You can also specify advanced parameters to control generation.\n",
        "response = reka.chat(\n",
        "    \"List some large cities in the UK.\",\n",
        "    assistant_start_text=\"1.\",\n",
        "    request_output_len=128,\n",
        "    temperature=0.4,\n",
        "    stop_tokens=[\"11.\"],\n",
        ")\n",
        "print(response[\"text\"])"
      ]
    },
    {
      "cell_type": "markdown",
      "id": "5491bf28",
      "metadata": {
        "id": "5491bf28"
      },
      "source": [
        "# Retrieval capabilities"
      ]
    },
    {
      "cell_type": "code",
      "execution_count": null,
      "id": "bf738bcd",
      "metadata": {
        "id": "bf738bcd",
        "colab": {
          "base_uri": "https://localhost:8080/"
        },
        "outputId": "c3d033e8-09ac-4b9f-ceb1-193029c208b3"
      },
      "outputs": [
        {
          "output_type": "stream",
          "name": "stdout",
          "text": [
            "--2023-09-12 13:55:12--  https://reka-public.s3.eu-west-2.amazonaws.com/amazon_legal_docs.zip\n",
            "Resolving reka-public.s3.eu-west-2.amazonaws.com (reka-public.s3.eu-west-2.amazonaws.com)... 52.95.144.26, 52.95.149.162, 52.95.150.10, ...\n",
            "Connecting to reka-public.s3.eu-west-2.amazonaws.com (reka-public.s3.eu-west-2.amazonaws.com)|52.95.144.26|:443... connected.\n",
            "HTTP request sent, awaiting response... 200 OK\n",
            "Length: 155322 (152K) [application/zip]\n",
            "Saving to: ‘amazon_legal_docs.zip’\n",
            "\n",
            "amazon_legal_docs.z 100%[===================>] 151.68K   509KB/s    in 0.3s    \n",
            "\n",
            "2023-09-12 13:55:13 (509 KB/s) - ‘amazon_legal_docs.zip’ saved [155322/155322]\n",
            "\n"
          ]
        }
      ],
      "source": [
        "# Download a toy dataset.\n",
        "!wget https://reka-public.s3.eu-west-2.amazonaws.com/amazon_legal_docs.zip"
      ]
    },
    {
      "cell_type": "code",
      "execution_count": null,
      "id": "eea57491",
      "metadata": {
        "id": "eea57491",
        "colab": {
          "base_uri": "https://localhost:8080/"
        },
        "outputId": "ffe998b0-dea1-4802-e344-83e6653ab596"
      },
      "outputs": [
        {
          "output_type": "execute_result",
          "data": {
            "text/plain": [
              "{'name': 'amazon', 'ok': True, 'info': ''}"
            ]
          },
          "metadata": {},
          "execution_count": 8
        }
      ],
      "source": [
        "reka.add_dataset(\n",
        "    filepath=\"amazon_legal_docs.zip\",\n",
        "    name=\"amazon\",\n",
        ")"
      ]
    },
    {
      "cell_type": "code",
      "execution_count": null,
      "id": "51647975",
      "metadata": {
        "id": "51647975",
        "colab": {
          "base_uri": "https://localhost:8080/"
        },
        "outputId": "bf807593-2a3f-435f-9237-abb0a4aef6ca"
      },
      "outputs": [
        {
          "output_type": "stream",
          "name": "stdout",
          "text": [
            "Job finished with status: COMPLETE\n"
          ]
        }
      ],
      "source": [
        "# Prepare the documents for retrieval.\n",
        "job_id = reka.prepare_retrieval(dataset_name=\"amazon\")\n",
        "\n",
        "while True:\n",
        "    status = reka.retrieval_job_status(job_id)\n",
        "    if status.is_done():\n",
        "        break\n",
        "    time.sleep(5)\n",
        "\n",
        "print(f\"Job finished with status: {status.job_status.name}\")"
      ]
    },
    {
      "cell_type": "code",
      "execution_count": null,
      "id": "00dfab96",
      "metadata": {
        "id": "00dfab96",
        "colab": {
          "base_uri": "https://localhost:8080/"
        },
        "outputId": "59d33d52-6a52-496c-c9b0-ce71438e8556"
      },
      "outputs": [
        {
          "output_type": "stream",
          "name": "stdout",
          "text": [
            "According to the Amazon Prime Terms and Conditions, Prime memberships redeemed through a promotional or gift code are not refundable. This means that if you paid for a Prime membership using a promotional or gift code, you will not be able to receive a refund for that membership, even if you have not used any of the Prime benefits.\n",
            "\n",
            "If you have any questions or concerns about your Amazon Prime membership, you can contact Amazon's customer service for assistance.\n"
          ]
        }
      ],
      "source": [
        "# The model now knows everything about Amazon legal documentation.\n",
        "response = reka.chat(\n",
        "    \"What is the refund policy for Amazon Prime memberships that were redeemed through a promotional or gift code?\",\n",
        "    retrieval_dataset=\"amazon\",\n",
        "    temperature=0.3,\n",
        ")\n",
        "print(response[\"text\"])"
      ]
    },
    {
      "cell_type": "code",
      "execution_count": null,
      "id": "b5fbf9eb",
      "metadata": {
        "id": "b5fbf9eb"
      },
      "outputs": [],
      "source": [
        "# Cleanup\n",
        "reka.delete_dataset(\"amazon\")"
      ]
    },
    {
      "cell_type": "markdown",
      "id": "fe7c3cd2",
      "metadata": {
        "id": "fe7c3cd2"
      },
      "source": [
        "# Image understanding"
      ]
    },
    {
      "cell_type": "code",
      "execution_count": null,
      "id": "b428e116",
      "metadata": {
        "scrolled": true,
        "id": "b428e116",
        "colab": {
          "base_uri": "https://localhost:8080/",
          "height": 493
        },
        "outputId": "641fee70-f580-499b-d84a-c023fa4d7868"
      },
      "outputs": [
        {
          "output_type": "execute_result",
          "data": {
            "text/html": [
              "<img src=\"https://docs.reka.ai/_images/000000245576.jpg\"/>"
            ],
            "text/plain": [
              "<IPython.core.display.Image object>"
            ]
          },
          "metadata": {},
          "execution_count": 15
        }
      ],
      "source": [
        "# Let's use an image of a cat.\n",
        "image_url = \"https://docs.reka.ai/_images/000000245576.jpg\"\n",
        "Image(url=image_url)"
      ]
    },
    {
      "cell_type": "code",
      "execution_count": null,
      "id": "43d9ef46",
      "metadata": {
        "id": "43d9ef46",
        "colab": {
          "base_uri": "https://localhost:8080/"
        },
        "outputId": "214f549c-b283-48a0-d00d-d3f7ed5370b3"
      },
      "outputs": [
        {
          "output_type": "stream",
          "name": "stdout",
          "text": [
            "There is an orange cat that is sitting in front of a computer keyboard. The cat is seen licking a keyboard key.\n"
          ]
        }
      ],
     "source": [
      "# Ask the model what's in the picture.\n",
      "response = reka.chat(\n",
      "    \"What's in the photo?\",\n",
      "    media_url=\"https://docs.reka.ai/_images/000000245576.jpg\",\n",
      "    media_type=\"image\",\n",
      "    model_name=\"default_mmlm\",\n",
      ")\n",
      "print(response[\"text\"])"
     ]
    },
    {
      "cell_type": "code",
      "execution_count": null,
      "id": "7e6db57c",
      "metadata": {
        "scrolled": true,
        "id": "7e6db57c",
        "colab": {
          "base_uri": "https://localhost:8080/"
        },
        "outputId": "dfa5232b-6b1a-40c6-95f4-563f801f89f4"
      },
      "outputs": [
        {
          "output_type": "stream",
          "name": "stdout",
          "text": [
            "The color of the keyboard is white.\n"
          ]
        }
      ],
     "source": [
      "# Continue the conversation.\n",
      "conversation_history = [{\n",
      "        \"type\": \"human\",\n",
      "        \"text\": \"What's in the photo?\",\n",
      "        \"media_url\": \"https://docs.reka.ai/_images/000000245576.jpg\",\n",
      "        \"media_type\": \"image\",\n",
      "    },{\n",
      "        \"type\": \"model\",\n",
      "        \"text\": response[\"text\"],\n",
      "    }]\n",
      "response = reka.chat(\"What color is the keyboard?\", conversation_history=conversation_history, model_name=\"default_mmlm\")\n",
      "print(response['text'])"
     ]
    },
    {
      "cell_type": "code",
      "source": [],
      "metadata": {
        "id": "ZFXnBXgTseZ0"
      },
      "id": "ZFXnBXgTseZ0",
      "execution_count": null,
      "outputs": []
    }
  ],
  "metadata": {
    "kernelspec": {
      "display_name": "Python 3 (ipykernel)",
      "language": "python",
      "name": "python3"
    },
    "language_info": {
      "codemirror_mode": {
        "name": "ipython",
        "version": 3
      },
      "file_extension": ".py",
      "mimetype": "text/x-python",
      "name": "python",
      "nbconvert_exporter": "python",
      "pygments_lexer": "ipython3",
      "version": "3.10.12"
    },
    "colab": {
      "provenance": [],
      "include_colab_link": true
    }
  },
  "nbformat": 4,
  "nbformat_minor": 5
}
